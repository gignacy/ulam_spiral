{
 "cells": [
  {
   "cell_type": "markdown",
   "metadata": {},
   "source": [
    "<b>Stanisław Marcin Ulam</b> - (13 April 1909 – 13 May 1984) was a Polish scientist in the fields of mathematics and nuclear physics. He participated in the Manhattan Project, originated the Teller–Ulam design of thermonuclear weapons, discovered the concept of cellular automaton, invented the Monte Carlo method of computation, and suggested nuclear pulse propulsion. [WIKIPEDIA]"
   ]
  },
  {
   "cell_type": "markdown",
   "metadata": {},
   "source": [
    "<b>Ulam Spiral</b> - is a graphical depiction of the set of prime numbers, devised by mathematician Stanislaw Ulam in 1963 [WIKIPEDIA]"
   ]
  },
  {
   "attachments": {},
   "cell_type": "markdown",
   "metadata": {},
   "source": [
    "<img src=\"pics/construction.png\">"
   ]
  },
  {
   "cell_type": "markdown",
   "metadata": {},
   "source": [
    "### There are a lot of prime numbers on diagonals:\n",
    "https://www.youtube.com/watch?v=iFuR97YcSLM\n",
    "\n",
    "https://www.youtube.com/watch?v=3K-12i0jclM"
   ]
  },
  {
   "attachments": {},
   "cell_type": "markdown",
   "metadata": {},
   "source": [
    "<img src=\"pics/diagonals.png\">\n",
    "[WIKIPEDIA]"
   ]
  },
  {
   "cell_type": "markdown",
   "metadata": {},
   "source": [
    "### Equations:"
   ]
  },
  {
   "attachments": {},
   "cell_type": "markdown",
   "metadata": {},
   "source": [
    "<img src=\"pics/equations.png\">\n",
    "\n",
    "https://math.stackexchange.com/questions/1347560/quadratic-polynomials-describe-the-diagonal-lines-in-the-ulam-spiral"
   ]
  },
  {
   "cell_type": "markdown",
   "metadata": {},
   "source": [
    "#### So, lets check when (how many rounds, new circuits we need) the ratio of prime numbers on both diagonals will be less than 1/10\n",
    "\n",
    "n - number of rounds"
   ]
  },
  {
   "cell_type": "code",
   "execution_count": 16,
   "metadata": {},
   "outputs": [],
   "source": [
    "from math import sqrt; from itertools import count, islice\n",
    "\n",
    "def isPrime(number):\n",
    "    return number > 1 and all(number%i for i in islice(count(2), int(sqrt(number)-1)))"
   ]
  },
  {
   "cell_type": "code",
   "execution_count": 14,
   "metadata": {},
   "outputs": [],
   "source": [
    "def get_corner_numbers(n):    \n",
    "    x1 = []\n",
    "    for i in range(1, n):\n",
    "        d2 = 4*i**2 - 2*i + 1\n",
    "        d3 = 4*i**2 + 1\n",
    "        d4 = 4*i**2 + 2*i + 1\n",
    "        d5 = 4*n**2 - 4*n + 1\n",
    "    return d2, d3, d4, d5"
   ]
  },
  {
   "cell_type": "code",
   "execution_count": 15,
   "metadata": {},
   "outputs": [],
   "source": [
    "def get_all_numbers_on_diagonals(n):    \n",
    "    x1 = []\n",
    "    for i in range(1, n):\n",
    "        d1 = 4*i**2 - 4*i + 1\n",
    "        d2 = 4*i**2 - 2*i + 1\n",
    "        d3 = 4*i**2 + 1\n",
    "        d4 = 4*i**2 + 2*i + 1\n",
    "        x1.extend([d1, d2, d3, d4])\n",
    "    d4 = 4*n**2 - 4*n + 1\n",
    "    x1.append(d4)\n",
    "    return x1"
   ]
  },
  {
   "cell_type": "code",
   "execution_count": 7,
   "metadata": {},
   "outputs": [
    {
     "data": {
      "text/plain": [
       "[1, 3, 5, 7, 9, 13, 17, 21, 25, 31, 37, 43, 49, 57, 65, 73, 81]"
      ]
     },
     "execution_count": 7,
     "metadata": {},
     "output_type": "execute_result"
    }
   ],
   "source": [
    "get_all_numbers_on_diagonals(5)"
   ]
  },
  {
   "cell_type": "code",
   "execution_count": 17,
   "metadata": {
    "scrolled": true
   },
   "outputs": [
    {
     "name": "stdout",
     "output_type": "stream",
     "text": [
      "1000\n",
      "0.1384923616328575\n",
      "2000\n",
      "0.12798698861503816\n",
      "3000\n",
      "0.12157091636788127\n",
      "4000\n",
      "0.11548802601137997\n",
      "5000\n",
      "0.11248937127994799\n",
      "6000\n",
      "0.11024048680865252\n",
      "7000\n",
      "0.10699103347265387\n",
      "8000\n",
      "0.10589816522364268\n",
      "9000\n",
      "0.10446475703609034\n",
      "10000\n",
      "0.10344310254294502\n",
      "11000\n",
      "0.10244811674584593\n",
      "12000\n",
      "0.10116058591877983\n",
      "13000\n",
      "0.10014809685919258\n",
      "UNDER 10%!!!!!\n",
      "13122\n",
      "0.09999809454850327\n"
     ]
    }
   ],
   "source": [
    "total = 1\n",
    "prime = 0\n",
    "r = 2\n",
    "while True:\n",
    "    for number in get_corner_numbers(r):\n",
    "        total += 1\n",
    "        if isPrime(number):\n",
    "            prime += 1\n",
    "    r += 1\n",
    "    ratio = prime/total\n",
    "    if ratio < 0.1:\n",
    "        print('UNDER 10%!!!!!')\n",
    "        print(r)\n",
    "        print(ratio)\n",
    "        break\n",
    "    if (r % 1000) == 0:\n",
    "        print(r)\n",
    "        print(ratio)\n"
   ]
  },
  {
   "cell_type": "markdown",
   "metadata": {},
   "source": [
    "### We need over 13k rounds to find the first Ulam Spiral with ratio prime numbers on both diagonals under 1/10! Amazing! Why is that!?"
   ]
  }
 ],
 "metadata": {
  "kernelspec": {
   "display_name": "Python 3",
   "language": "python",
   "name": "python3"
  },
  "language_info": {
   "codemirror_mode": {
    "name": "ipython",
    "version": 3
   },
   "file_extension": ".py",
   "mimetype": "text/x-python",
   "name": "python",
   "nbconvert_exporter": "python",
   "pygments_lexer": "ipython3",
   "version": "3.6.4"
  }
 },
 "nbformat": 4,
 "nbformat_minor": 2
}
